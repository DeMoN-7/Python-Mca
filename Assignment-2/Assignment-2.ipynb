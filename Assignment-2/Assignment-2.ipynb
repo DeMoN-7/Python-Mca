{
 "cells": [
  {
   "cell_type": "markdown",
   "metadata": {},
   "source": [
    "<font color=red><center>Assignment 2 "
   ]
  },
  {
   "cell_type": "markdown",
   "metadata": {},
   "source": [
    "<p><font color=green face=\"comic san ms\">Write a function greet that takes two arguments: name (a string) and greeting (a string with a default value of \"Hello\"). The function should return a greeting message."
   ]
  },
  {
   "cell_type": "code",
   "execution_count": 2,
   "metadata": {},
   "outputs": [],
   "source": [
    "def func(name,greet=\"Hello\"):\n",
    "    print(greet,name)"
   ]
  },
  {
   "cell_type": "code",
   "execution_count": 4,
   "metadata": {},
   "outputs": [
    {
     "name": "stdout",
     "output_type": "stream",
     "text": [
      "Hello Ayush\n",
      "Good Morning Ayush\n"
     ]
    }
   ],
   "source": [
    "func(\"Ayush\") #called function with name string as it does not have default value\n",
    "func(\"Ayush\",\"Good Morning\")"
   ]
  },
  {
   "cell_type": "markdown",
   "metadata": {},
   "source": [
    "<p><font color=green face=\"comic san ms\">Create a function create_profile that takes arguments for name, age, and city as named arguments. The function should return a string like \"Name: Alice, Age: 25, City: New York\". Ensure that the age argument has a default value of 18."
   ]
  },
  {
   "cell_type": "code",
   "execution_count": 9,
   "metadata": {},
   "outputs": [],
   "source": [
    "def create_profile(name,city,age=18):\n",
    "    print(\"Name: \",name,\"Age:\",age,\"City:\",city)\n",
    "    "
   ]
  },
  {
   "cell_type": "code",
   "execution_count": 10,
   "metadata": {},
   "outputs": [
    {
     "name": "stdout",
     "output_type": "stream",
     "text": [
      "Name:  Ayush Age: 18 City: Satna\n",
      "Name:  Aman Age: 16 City: Jaipur\n"
     ]
    }
   ],
   "source": [
    "create_profile(name=\"Ayush\",city=\"Satna\")\n",
    "create_profile(name=\"Aman\",city=\"Jaipur\",age=16)\n"
   ]
  },
  {
   "cell_type": "markdown",
   "metadata": {},
   "source": [
    "<p><font color=purple face=\"comic san ms\">Write a function sum_numbers that takes any number of positional arguments (args) and keyword arguments (*kwargs). It should:\n",
    "<br>\n",
    "Return the sum of all *args if they are numbers.\n",
    "<br>\n",
    "Return a dictionary of all keyword arguments"
   ]
  },
  {
   "cell_type": "code",
   "execution_count": 24,
   "metadata": {},
   "outputs": [],
   "source": [
    "def sum_number(*args,**kwargs):\n",
    "    sum=0\n",
    "    for i in args: #just simple iteration for getting sum of elements\n",
    "        sum+=i\n",
    "    if(len(kwargs)):\n",
    "        return sum,kwargs # return dict only when it have elements \n",
    "    else:\n",
    "        return sum\n",
    "    "
   ]
  },
  {
   "cell_type": "code",
   "execution_count": 28,
   "metadata": {},
   "outputs": [
    {
     "name": "stdout",
     "output_type": "stream",
     "text": [
      "9\n",
      "(9, {'a': 12, 'b': 32})\n"
     ]
    }
   ],
   "source": [
    "print(sum_number(2,3,4))\n",
    "print(sum_number(2,3,4,a=12,b=32))"
   ]
  },
  {
   "cell_type": "markdown",
   "metadata": {},
   "source": [
    "<p><font color=purple face=\"comic san ms\">Write a function that uses map and a lambda to return a list where each element is squared."
   ]
  },
  {
   "cell_type": "code",
   "execution_count": 33,
   "metadata": {},
   "outputs": [
    {
     "name": "stdout",
     "output_type": "stream",
     "text": [
      "[1, 4, 9, 16, 25]\n"
     ]
    }
   ],
   "source": [
    "def square_elements(lst):\n",
    "    return list(map(lambda x: x ** 2, lst))# each element of list is squared\n",
    "\n",
    "numbers = [1, 2, 3, 4, 5]\n",
    "squared = square_elements(numbers)\n",
    "print(squared)\n"
   ]
  },
  {
   "cell_type": "markdown",
   "metadata": {},
   "source": [
    "<p><font color=purple face=\"comic san ms\">Write a function that filters out all odd numbers from a list using filter and a lambda function."
   ]
  },
  {
   "cell_type": "code",
   "execution_count": null,
   "metadata": {},
   "outputs": [],
   "source": []
  }
 ],
 "metadata": {
  "kernelspec": {
   "display_name": "Python 3",
   "language": "python",
   "name": "python3"
  },
  "language_info": {
   "codemirror_mode": {
    "name": "ipython",
    "version": 3
   },
   "file_extension": ".py",
   "mimetype": "text/x-python",
   "name": "python",
   "nbconvert_exporter": "python",
   "pygments_lexer": "ipython3",
   "version": "3.12.4"
  }
 },
 "nbformat": 4,
 "nbformat_minor": 2
}
