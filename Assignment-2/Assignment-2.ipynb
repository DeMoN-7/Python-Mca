{
 "cells": [
  {
   "cell_type": "markdown",
   "metadata": {},
   "source": [
    "<font color=red><center>Assignment 2 "
   ]
  },
  {
   "cell_type": "markdown",
   "metadata": {},
   "source": [
    "<p><font color=green face=\"comic san ms\">Write a function greet that takes two arguments: name (a string) and greeting (a string with a default value of \"Hello\"). The function should return a greeting message."
   ]
  },
  {
   "cell_type": "code",
   "execution_count": 2,
   "metadata": {},
   "outputs": [],
   "source": [
    "def func(name,greet=\"Hello\"):\n",
    "    print(greet,name)"
   ]
  },
  {
   "cell_type": "code",
   "execution_count": 4,
   "metadata": {},
   "outputs": [
    {
     "name": "stdout",
     "output_type": "stream",
     "text": [
      "Hello Ayush\n",
      "Good Morning Ayush\n"
     ]
    }
   ],
   "source": [
    "func(\"Ayush\") #called function with name string as it does not have default value\n",
    "func(\"Ayush\",\"Good Morning\")"
   ]
  },
  {
   "cell_type": "markdown",
   "metadata": {},
   "source": [
    "<p><font color=green face=\"comic san ms\">Create a function create_profile that takes arguments for name, age, and city as named arguments. The function should return a string like \"Name: Alice, Age: 25, City: New York\". Ensure that the age argument has a default value of 18."
   ]
  },
  {
   "cell_type": "code",
   "execution_count": 9,
   "metadata": {},
   "outputs": [],
   "source": [
    "def create_profile(name,city,age=18):\n",
    "    print(\"Name: \",name,\"Age:\",age,\"City:\",city)\n",
    "    "
   ]
  },
  {
   "cell_type": "code",
   "execution_count": 10,
   "metadata": {},
   "outputs": [
    {
     "name": "stdout",
     "output_type": "stream",
     "text": [
      "Name:  Ayush Age: 18 City: Satna\n",
      "Name:  Aman Age: 16 City: Jaipur\n"
     ]
    }
   ],
   "source": [
    "create_profile(name=\"Ayush\",city=\"Satna\")\n",
    "create_profile(name=\"Aman\",city=\"Jaipur\",age=16)\n"
   ]
  },
  {
   "cell_type": "markdown",
   "metadata": {},
   "source": [
    "<p><font color=purple face=\"comic san ms\">Write a function sum_numbers that takes any number of positional arguments (args) and keyword arguments (*kwargs). It should:\n",
    "<br>\n",
    "Return the sum of all *args if they are numbers.\n",
    "<br>\n",
    "Return a dictionary of all keyword arguments"
   ]
  },
  {
   "cell_type": "code",
   "execution_count": 24,
   "metadata": {},
   "outputs": [],
   "source": [
    "def sum_number(*args,**kwargs):\n",
    "    sum=0\n",
    "    for i in args: #just simple iteration for getting sum of elements\n",
    "        sum+=i\n",
    "    if(len(kwargs)):\n",
    "        return sum,kwargs # return dict only when it have elements \n",
    "    else:\n",
    "        return sum\n",
    "    "
   ]
  },
  {
   "cell_type": "code",
   "execution_count": 28,
   "metadata": {},
   "outputs": [
    {
     "name": "stdout",
     "output_type": "stream",
     "text": [
      "9\n",
      "(9, {'a': 12, 'b': 32})\n"
     ]
    }
   ],
   "source": [
    "print(sum_number(2,3,4))\n",
    "print(sum_number(2,3,4,a=12,b=32))"
   ]
  },
  {
   "cell_type": "markdown",
   "metadata": {},
   "source": [
    "<p><font color=purple face=\"comic san ms\">Write a function that uses map and a lambda to return a list where each element is squared."
   ]
  },
  {
   "cell_type": "code",
   "execution_count": 33,
   "metadata": {},
   "outputs": [
    {
     "name": "stdout",
     "output_type": "stream",
     "text": [
      "[1, 4, 9, 16, 25]\n"
     ]
    }
   ],
   "source": [
    "def square_elements(lst):\n",
    "    return list(map(lambda x: x ** 2, lst))# each element of list is squared\n",
    "\n",
    "numbers = [1, 2, 3, 4, 5]\n",
    "squared = square_elements(numbers)\n",
    "print(squared)\n"
   ]
  },
  {
   "cell_type": "markdown",
   "metadata": {},
   "source": [
    "<p><font color=purple face=\"comic san ms\">Write a function that filters out all odd numbers from a list using filter and a lambda function."
   ]
  },
  {
   "cell_type": "code",
   "execution_count": 11,
   "metadata": {},
   "outputs": [
    {
     "name": "stdout",
     "output_type": "stream",
     "text": [
      "[2, 4]\n"
     ]
    }
   ],
   "source": [
    "def filter_odd(lst):\n",
    "    return list(filter(lambda x: x % 2 == 0, lst)) \n",
    "#filter function take lambda as condition and lst as iterable list\n",
    "\n",
    "numbers = [1, 2, 3, 4, 5]\n",
    "odd = filter_odd(numbers)\n",
    "print(odd)\n"
   ]
  },
  {
   "cell_type": "markdown",
   "metadata": {},
   "source": [
    "<h1>List comprehension </h1>\n",
    "<p>Allows to generate a new list by applying an expression to each element of an existing iterable (like a list or a range), optionally filtering elements based on a condition.</p>"
   ]
  },
  {
   "cell_type": "markdown",
   "metadata": {},
   "source": [
    "<font color=red>Create a list comprehension that takes a list of numbers and returns a list of their squares."
   ]
  },
  {
   "cell_type": "code",
   "execution_count": 14,
   "metadata": {},
   "outputs": [
    {
     "name": "stdout",
     "output_type": "stream",
     "text": [
      "[0, 1, 4, 9, 16]\n"
     ]
    }
   ],
   "source": [
    "list1=[x**2 for x in range(5)]\n",
    "# first part is expression next part is iterative part \n",
    "print(list1)"
   ]
  },
  {
   "cell_type": "code",
   "execution_count": 21,
   "metadata": {},
   "outputs": [
    {
     "name": "stdout",
     "output_type": "stream",
     "text": [
      "[4, 16]\n"
     ]
    }
   ],
   "source": [
    "list2=[x**2 for x in range(1,6)if x %2==0]\n",
    "# first part is expression second part is iterative part and last is condtion part\n",
    "print(list2)"
   ]
  },
  {
   "cell_type": "markdown",
   "metadata": {},
   "source": [
    "<font color= red>Use a list comprehension to create a list of even numbers from 1 to 20."
   ]
  },
  {
   "cell_type": "code",
   "execution_count": 24,
   "metadata": {},
   "outputs": [
    {
     "name": "stdout",
     "output_type": "stream",
     "text": [
      "[2, 4, 6, 8, 10, 12, 14, 16, 18, 20]\n"
     ]
    }
   ],
   "source": [
    "list3=[x for x in range(1,21) if x%2==0]\n",
    "print(list3)"
   ]
  },
  {
   "cell_type": "markdown",
   "metadata": {},
   "source": [
    "<font color= red>Write a function file_operations that creates a directory named \"test_folder\" using os.makedirs(). Then, pause the execution for 3 seconds using time.sleep(), and finally, delete the directory using os.rmdir()."
   ]
  },
  {
   "cell_type": "code",
   "execution_count": 5,
   "metadata": {},
   "outputs": [
    {
     "name": "stdout",
     "output_type": "stream",
     "text": [
      "Directory  Created\n",
      "Directory  removed\n"
     ]
    }
   ],
   "source": [
    "import os\n",
    "import time\n",
    "def file_operation(path):\n",
    "    # check wether the path is correct or not\n",
    "    try:\n",
    "        os.makedirs(path,exist_ok=True)\n",
    "        print(\"Directory  Created\")\n",
    "    except Exception as e:\n",
    "        print(e)\n",
    "    time.sleep(3)\n",
    "    os.rmdir(path)\n",
    "    print(\"Directory  removed\")\n",
    "    \n",
    "path=r\"H:\\Python-Mca\\new_folder\"# new directory created with name new_folder \n",
    "file_operation(path)"
   ]
  },
  {
   "cell_type": "markdown",
   "metadata": {},
   "source": [
    "<font color=red>Write a Python script that imports only sleep from the time module and renames it to pause. Use it to pause execution for 2 seconds and print \"Paused execution...\"."
   ]
  },
  {
   "cell_type": "code",
   "execution_count": 7,
   "metadata": {},
   "outputs": [
    {
     "name": "stdout",
     "output_type": "stream",
     "text": [
      "Pause\n",
      "After 2 sec\n"
     ]
    }
   ],
   "source": [
    "from time import sleep as pause\n",
    "print(\"Pause\")\n",
    "pause(2)\n",
    "print(\"After 2 sec\")"
   ]
  },
  {
   "cell_type": "code",
   "execution_count": null,
   "metadata": {},
   "outputs": [],
   "source": []
  }
 ],
 "metadata": {
  "kernelspec": {
   "display_name": "Python 3",
   "language": "python",
   "name": "python3"
  },
  "language_info": {
   "codemirror_mode": {
    "name": "ipython",
    "version": 3
   },
   "file_extension": ".py",
   "mimetype": "text/x-python",
   "name": "python",
   "nbconvert_exporter": "python",
   "pygments_lexer": "ipython3",
   "version": "3.12.4"
  }
 },
 "nbformat": 4,
 "nbformat_minor": 2
}
