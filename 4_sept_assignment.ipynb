{
 "cells": [
  {
   "cell_type": "markdown",
   "metadata": {},
   "source": [
    "wap  that takes a list as input and return \n",
    "one input arg and return its sum cummulative sum average min and max value using for loop"
   ]
  },
  {
   "cell_type": "code",
   "execution_count": 26,
   "metadata": {},
   "outputs": [],
   "source": [
    "def add(*args):\n",
    "    max=sum=0\n",
    "    min=args[0]\n",
    "    a=[]\n",
    "    for i in args:\n",
    "        sum+=args[i-1]\n",
    "        a.append(sum)\n",
    "        print(args[i-1])\n",
    "        if (args[i-1]<min):\n",
    "            min=args[i-1]\n",
    "        if (args[i-1]>max):\n",
    "            max=args[i-1]\n",
    "    print(\"sum: \",sum)\n",
    "    print(\"avg: \",sum/len(args))\n",
    "    print(\"max\", max)\n",
    "    print(\"min\", min)\n",
    "    print(a)\n",
    "    "
   ]
  },
  {
   "cell_type": "code",
   "execution_count": 27,
   "metadata": {},
   "outputs": [
    {
     "name": "stdout",
     "output_type": "stream",
     "text": [
      "1\n",
      "2\n",
      "3\n",
      "4\n",
      "sum:  10\n",
      "avg:  2.5\n",
      "max 4\n",
      "min 1\n",
      "[1, 3, 6, 10]\n"
     ]
    }
   ],
   "source": [
    "a=\n"
   ]
  },
  {
   "cell_type": "code",
   "execution_count": null,
   "metadata": {},
   "outputs": [],
   "source": []
  }
 ],
 "metadata": {
  "kernelspec": {
   "display_name": "Python 3",
   "language": "python",
   "name": "python3"
  },
  "language_info": {
   "codemirror_mode": {
    "name": "ipython",
    "version": 3
   },
   "file_extension": ".py",
   "mimetype": "text/x-python",
   "name": "python",
   "nbconvert_exporter": "python",
   "pygments_lexer": "ipython3",
   "version": "3.12.3"
  }
 },
 "nbformat": 4,
 "nbformat_minor": 2
}
