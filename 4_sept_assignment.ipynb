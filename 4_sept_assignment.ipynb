{
 "cells": [
  {
   "cell_type": "markdown",
   "metadata": {},
   "source": [
    "wap  that takes a list as input and return <br>\n",
    "one input arg and return its sum cummulative sum average min and max value using for loop"
   ]
  },
  {
   "cell_type": "code",
   "execution_count": 34,
   "metadata": {},
   "outputs": [],
   "source": [
    "def add(args):\n",
    "    \n",
    "    '''\n",
    "    \n",
    "    '''\n",
    "    max=sum=0\n",
    "    min=args[0]\n",
    "    a=[]\n",
    "    for i in args:\n",
    "        sum+=args[i-1]\n",
    "        a.append(sum)\n",
    "        print(args[i-1])\n",
    "        if (args[i-1]<min):\n",
    "            min=args[i-1]\n",
    "        if (args[i-1]>max):\n",
    "            max=args[i-1]\n",
    "    print(\"sum: \",sum)\n",
    "    print(\"avg: \",sum/len(args))\n",
    "    print(\"max\", max)\n",
    "    print(\"min\", min)\n",
    "    print(a)\n",
    "    "
   ]
  },
  {
   "cell_type": "code",
   "execution_count": 39,
   "metadata": {},
   "outputs": [],
   "source": [
    "def take_list(i):\n",
    "    a=[]\n",
    "    for x in range(0,i):\n",
    "        z=int(input(\"Enter list element\"))\n",
    "        a.append(z)\n",
    "    return a"
   ]
  },
  {
   "cell_type": "code",
   "execution_count": 40,
   "metadata": {},
   "outputs": [
    {
     "name": "stdout",
     "output_type": "stream",
     "text": [
      "1\n",
      "2\n",
      "3\n",
      "4\n",
      "sum:  10\n",
      "avg:  2.5\n",
      "max 4\n",
      "min 1\n",
      "[1, 3, 6, 10]\n"
     ]
    }
   ],
   "source": [
    "i=int(input(\"Enter length\"))\n",
    "a=take_list(i)\n",
    "add(a)\n"
   ]
  },
  {
   "cell_type": "markdown",
   "metadata": {},
   "source": []
  },
  {
   "cell_type": "code",
   "execution_count": 42,
   "metadata": {},
   "outputs": [
    {
     "name": "stdout",
     "output_type": "stream",
     "text": [
      "6\n"
     ]
    }
   ],
   "source": [
    "num=int(input(\"enter number\"))\n",
    "se=0\n",
    "for i in range(num,0,-1):\n",
    "    se+=i\n",
    "print(se)\n",
    "    "
   ]
  },
  {
   "cell_type": "code",
   "execution_count": null,
   "metadata": {},
   "outputs": [],
   "source": []
  }
 ],
 "metadata": {
  "kernelspec": {
   "display_name": "Python 3",
   "language": "python",
   "name": "python3"
  },
  "language_info": {
   "codemirror_mode": {
    "name": "ipython",
    "version": 3
   },
   "file_extension": ".py",
   "mimetype": "text/x-python",
   "name": "python",
   "nbconvert_exporter": "python",
   "pygments_lexer": "ipython3",
   "version": "3.12.3"
  }
 },
 "nbformat": 4,
 "nbformat_minor": 2
}
