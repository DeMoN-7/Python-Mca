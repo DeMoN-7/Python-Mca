{
 "cells": [
  {
   "cell_type": "code",
   "execution_count": 1,
   "metadata": {},
   "outputs": [
    {
     "name": "stdout",
     "output_type": "stream",
     "text": [
      "Value of a does not exists\n"
     ]
    }
   ],
   "source": [
    "\n",
    "try:\n",
    "    print(\"Value of a \",a)\n",
    "except:\n",
    "    print(\"Value of a does not exists\")"
   ]
  },
  {
   "cell_type": "code",
   "execution_count": 2,
   "metadata": {},
   "outputs": [
    {
     "name": "stdout",
     "output_type": "stream",
     "text": [
      "Value of a  10\n"
     ]
    }
   ],
   "source": [
    "a=10\n",
    "try:\n",
    "    print(\"Value of a \",a)\n",
    "except:\n",
    "    print(\"Value of a does not exists\")"
   ]
  },
  {
   "cell_type": "code",
   "execution_count": 7,
   "metadata": {},
   "outputs": [
    {
     "name": "stdout",
     "output_type": "stream",
     "text": [
      "Assertion is false\n"
     ]
    }
   ],
   "source": [
    "a1=10\n",
    "b1=20\n",
    "try:\n",
    "    assert a1>b1\n",
    "    print(\"Assertion is true\")\n",
    "except:\n",
    "    print(\"Assertion is false\")"
   ]
  },
  {
   "cell_type": "code",
   "execution_count": 8,
   "metadata": {},
   "outputs": [
    {
     "name": "stdout",
     "output_type": "stream",
     "text": [
      "Assertion is true\n"
     ]
    }
   ],
   "source": [
    "a1=101\n",
    "b1=20\n",
    "try:\n",
    "    assert a1>b1\n",
    "    print(\"Assertion is true\")\n",
    "except:\n",
    "    print(\"Assertion is false\")"
   ]
  },
  {
   "cell_type": "code",
   "execution_count": 9,
   "metadata": {},
   "outputs": [],
   "source": [
    "def div(a,b):\n",
    "    return a/b\n"
   ]
  },
  {
   "cell_type": "code",
   "execution_count": 10,
   "metadata": {},
   "outputs": [],
   "source": [
    "num1=int(input(\"Enter number 1\"))\n",
    "num2=int(input(\"Enter number 2\"))"
   ]
  },
  {
   "cell_type": "code",
   "execution_count": 12,
   "metadata": {},
   "outputs": [
    {
     "name": "stdout",
     "output_type": "stream",
     "text": [
      "Div by 0 error raised\n"
     ]
    }
   ],
   "source": [
    "try:\n",
    "    print(\"Div of two number is: \",div(num1.num2))\n",
    "except:\n",
    "    print(\"Div by 0 error raised\")"
   ]
  },
  {
   "cell_type": "code",
   "execution_count": null,
   "metadata": {},
   "outputs": [],
   "source": []
  }
 ],
 "metadata": {
  "kernelspec": {
   "display_name": "Python 3",
   "language": "python",
   "name": "python3"
  },
  "language_info": {
   "codemirror_mode": {
    "name": "ipython",
    "version": 3
   },
   "file_extension": ".py",
   "mimetype": "text/x-python",
   "name": "python",
   "nbconvert_exporter": "python",
   "pygments_lexer": "ipython3",
   "version": "3.12.4"
  }
 },
 "nbformat": 4,
 "nbformat_minor": 2
}
