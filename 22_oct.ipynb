{
 "cells": [
  {
   "cell_type": "code",
   "execution_count": 1,
   "metadata": {},
   "outputs": [
    {
     "name": "stdout",
     "output_type": "stream",
     "text": [
      "Dog class\n",
      "Buddy says woof!\n",
      "Buddy is 3 years old.\n",
      "Charlie says woof!\n",
      "Charlie is 5 years old.\n",
      "canis familiaries\n",
      "canis familiaries\n",
      "Buddy is 3 years old.\n",
      "\n",
      "Cat class\n",
      "Buddy says meow!\n",
      "Buddy is 3 years old.\n",
      "Charlie says meow!\n",
      "Charlie is 5 years old.\n",
      "cat species\n",
      "cat species\n",
      "Charlie is 5 years old.\n"
     ]
    }
   ],
   "source": [
    "class Animal:\n",
    "    def __init__(self,name,age):\n",
    "        self.name=name\n",
    "        #self.__age=age  (Private property)\n",
    "        self.age=age\n",
    "    def get_age(self):\n",
    "        return f\"{self.name} is {self.age} years old.\"\n",
    "    def __str__(self): #Return meaningful output when someone prints a object\n",
    "        return f\"{self.name} is {self.age} years old.\"\n",
    "class Dog(Animal):\n",
    "    species=\"canis familiaries\"\n",
    "    def bark(self):\n",
    "        return f\"{self.name} says woof!\"\n",
    "    \n",
    "    \n",
    "class Cat(Animal):\n",
    "    species=\"cat species\"\n",
    "    def mew(self):\n",
    "        return f\"{self.name} says meow!\"\n",
    "\n",
    "print(\"Dog class\")\n",
    "dog1=Dog(\"Buddy\",3)\n",
    "dog2=Dog(\"Charlie\",5)\n",
    "print(dog1.bark())\n",
    "print(dog1.get_age())\n",
    "print(dog2.bark())\n",
    "print(dog2.get_age())\n",
    "print(dog1.species)\n",
    "print(dog2.species)\n",
    "#print(dog1.__age)\n",
    "print(dog1)\n",
    "\n",
    "print()\n",
    "print(\"Cat class\")\n",
    "\n",
    "cat1=Cat(\"Buddy\",3)\n",
    "cat2=Cat(\"Charlie\",5)\n",
    "print(cat1.mew())\n",
    "print(cat1.get_age())\n",
    "print(cat2.mew())\n",
    "print(cat2.get_age())\n",
    "print(cat1.species)\n",
    "print(cat2.species)\n",
    "#print(cat1.__age)\n",
    "print(cat2)\n",
    "#print(cat1._str_())"
   ]
  },
  {
   "cell_type": "code",
   "execution_count": 2,
   "metadata": {},
   "outputs": [],
   "source": [
    "class Animal:\n",
    "    def __init__(self,name,age):\n",
    "        self.name=name\n",
    "        #self.__age=age  (Private property)\n",
    "        self.age=age\n",
    "    def get_age(self):\n",
    "        return f\"{self.name} is {self.age} years old.\"\n",
    "    def __str__(self): #Return meaningful output when someone prints a object\n",
    "        return f\"{self.name} is {self.age} years old.\""
   ]
  }
 ],
 "metadata": {
  "kernelspec": {
   "display_name": "Python 3",
   "language": "python",
   "name": "python3"
  },
  "language_info": {
   "codemirror_mode": {
    "name": "ipython",
    "version": 3
   },
   "file_extension": ".py",
   "mimetype": "text/x-python",
   "name": "python",
   "nbconvert_exporter": "python",
   "pygments_lexer": "ipython3",
   "version": "3.12.4"
  }
 },
 "nbformat": 4,
 "nbformat_minor": 2
}
