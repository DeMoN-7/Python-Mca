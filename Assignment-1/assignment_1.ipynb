{
 "cells": [
  {
   "cell_type": "markdown",
   "metadata": {},
   "source": []
  },
  {
   "cell_type": "markdown",
   "metadata": {},
   "source": [
    "![label](ss.png)"
   ]
  },
  {
   "cell_type": "code",
   "execution_count": 1,
   "metadata": {},
   "outputs": [
    {
     "name": "stdout",
     "output_type": "stream",
     "text": [
      "Name:  Ayush Singh\n",
      "Course:  MCA\n",
      "3.12.3 (main, Jul 31 2024, 17:43:48) [GCC 13.2.0]\n"
     ]
    }
   ],
   "source": [
    "import sys\n",
    "print(\"Name: \",\"Ayush Singh\")\n",
    "print(\"Course: \",\"MCA\")\n",
    "print(sys.version)\n"
   ]
  },
  {
   "cell_type": "markdown",
   "metadata": {},
   "source": [
    "Wap to print hello world"
   ]
  },
  {
   "cell_type": "code",
   "execution_count": 3,
   "metadata": {},
   "outputs": [
    {
     "name": "stdout",
     "output_type": "stream",
     "text": [
      "Hello world\n"
     ]
    }
   ],
   "source": [
    "print(\"Hello world\")"
   ]
  },
  {
   "cell_type": "markdown",
   "metadata": {},
   "source": [
    "<h1>String operation</h1><br>\n",
    "    <li>\n",
    "        WAP to take user first and last name and print them in <u>reverse order with space between them</u>\n",
    "    </li>\n",
    "    <li>\n",
    "        WAP to show the use of <u>two string function</u>\n",
    "    </li>  "
   ]
  },
  {
   "cell_type": "code",
   "execution_count": 6,
   "metadata": {},
   "outputs": [
    {
     "name": "stdout",
     "output_type": "stream",
     "text": [
      "hsuyA   hgniS\n"
     ]
    }
   ],
   "source": [
    "fName=input(\"Enter the first name: \")\n",
    "lName=input(\"Enter the last name\")\n",
    "print(fName[::-1],\" \",lName[::-1])"
   ]
  },
  {
   "cell_type": "markdown",
   "metadata": {},
   "source": [
    "#used of slice operator to reverse string "
   ]
  },
  {
   "cell_type": "code",
   "execution_count": 10,
   "metadata": {},
   "outputs": [
    {
     "name": "stdout",
     "output_type": "stream",
     "text": [
      "AYUSH\n",
      "True\n"
     ]
    }
   ],
   "source": [
    "print(fName.upper())\n",
    "print(lName.isalnum())"
   ]
  },
  {
   "cell_type": "markdown",
   "metadata": {},
   "source": [
    "<font color=\"green\">\n",
    "upper() function of string is used for making whole string to upper case<br>\n",
    "isalnum() also known as isAlphaNumeric used to check whether the string contain of either alphabets or numeric elements."
   ]
  },
  {
   "cell_type": "markdown",
   "metadata": {},
   "source": [
    "<h2>Data Types</h2>"
   ]
  },
  {
   "cell_type": "code",
   "execution_count": 11,
   "metadata": {},
   "outputs": [
    {
     "name": "stdout",
     "output_type": "stream",
     "text": [
      "33.0\n",
      "(33+0j)\n"
     ]
    }
   ],
   "source": [
    "num=int(input(\"Enter the number: \"))\n",
    "print(float(num))\n",
    "print(complex(num))"
   ]
  },
  {
   "cell_type": "markdown",
   "metadata": {},
   "source": [
    "float is used when we have to deal with decimal values <br>\n",
    "complex is used when we have to deal with complex or imaginary number<br>\n",
    "int is used when we have to deal with normal integer either postive or negative"
   ]
  },
  {
   "cell_type": "code",
   "execution_count": 14,
   "metadata": {},
   "outputs": [
    {
     "name": "stdout",
     "output_type": "stream",
     "text": [
      "Area of rectangle:  100.0\n"
     ]
    }
   ],
   "source": [
    "# area of rectangle\n",
    "length=float(input(\"Enter the length of rectangle\"))\n",
    "width=float(input(\"Enter the width of rectangle\"))\n",
    "area=length*width\n",
    "print(\"Area of rectangle: \",area)\n"
   ]
  },
  {
   "cell_type": "code",
   "execution_count": 19,
   "metadata": {},
   "outputs": [
    {
     "name": "stdout",
     "output_type": "stream",
     "text": [
      "100.00\n"
     ]
    }
   ],
   "source": [
    "print(\"{:.2f}\".format(area))"
   ]
  },
  {
   "cell_type": "code",
   "execution_count": 24,
   "metadata": {},
   "outputs": [
    {
     "name": "stdout",
     "output_type": "stream",
     "text": [
      "The average of three number is  20.00\n"
     ]
    }
   ],
   "source": [
    "# avg of three num\n",
    "num1=float(input(\"Enter the number 1: \"))\n",
    "num2=float(input(\"Enter the number 2: \"))\n",
    "num3=float(input(\"Enter the number 3: \"))\n",
    "avg=(num1+num2+num3)/3\n",
    "print(\"The average of three number is \",\"%.2f\" % avg) # .2f used to give floating point upto 2 decimal places"
   ]
  },
  {
   "cell_type": "markdown",
   "metadata": {},
   "source": [
    "<h2> Control Flow</h2>\n",
    "<li>WAP to ask user a number and determine wheter it is postive, negative or zero</li>\n",
    "<li>WAP to implement a loop that continue to ask user to input number until they enter 'exit'</li>\n",
    "<li>WAP to use break to exit loop and continue to prompt for the new number if the input is not exit</li>"
   ]
  },
  {
   "cell_type": "markdown",
   "metadata": {},
   "source": [
    "Control flow is used to control the flow of code using conditions<br>In python we have <li>if</li><li>elif</li> <li>else. </li>Using this we can provide various condition that should be checked to continue the flow of code"
   ]
  },
  {
   "cell_type": "code",
   "execution_count": 2,
   "metadata": {},
   "outputs": [
    {
     "name": "stdout",
     "output_type": "stream",
     "text": [
      "Postive\n"
     ]
    }
   ],
   "source": [
    "num=int(input(\"Enter the number: \"))\n",
    "if (num>0):print(\"Postive\")\n",
    "elif (num==0):print(\"Zero\")\n",
    "else: print(\"Negative\")"
   ]
  },
  {
   "cell_type": "code",
   "execution_count": 8,
   "metadata": {},
   "outputs": [
    {
     "name": "stdout",
     "output_type": "stream",
     "text": [
      "Press 0 to exit:\n",
      "Press 0 to exit:\n",
      "Press 0 to exit:\n",
      "Press 0 to exit:\n",
      "[12, 312, 330]\n"
     ]
    }
   ],
   "source": [
    "a=[]\n",
    "while(True):\n",
    "    print(\"Press 0 to exit:\")\n",
    "    x=int(input(\"Enter the number\"))\n",
    "    if(x==0):break\n",
    "    else:a.append(x)\n",
    "print(a)"
   ]
  },
  {
   "cell_type": "code",
   "execution_count": 2,
   "metadata": {},
   "outputs": [
    {
     "name": "stdout",
     "output_type": "stream",
     "text": [
      "Binary: 10101\n",
      "Octal: 12\n",
      "Hexadecimal: 15\n"
     ]
    }
   ],
   "source": [
    "def convert_number(num):\n",
    "    # Binary conversion\n",
    "    binary = ''\n",
    "    for i in range(num.bit_length(), -1, -1):\n",
    "        binary += '1' if (num >> i) & 1 else '0'\n",
    "    binary = binary.lstrip('0') or '0'  \n",
    "\n",
    "    # Octal conversion\n",
    "    octal = ''\n",
    "    for i in range(num.bit_length() - 1, -1, -3):  \n",
    "        octal_digit = (num >> i) & 7  \n",
    "        octal += str(octal_digit)\n",
    "    octal = octal.lstrip('0') or '0'  \n",
    "\n",
    "    # Hexadecimal conversion\n",
    "    hex_digits = \"0123456789ABCDEF\"\n",
    "    hexadecimal = ''\n",
    "    for i in range(num.bit_length() - 1, -1, -4):  \n",
    "        hex_digit = (num >> i) & 15  \n",
    "        hexadecimal += hex_digits[hex_digit]\n",
    "    hexadecimal = hexadecimal.lstrip('0') or '0'  \n",
    "\n",
    "    print(f\"Binary: {binary}\")\n",
    "    print(f\"Octal: {octal}\")\n",
    "    print(f\"Hexadecimal: {hexadecimal}\")\n",
    "\n",
    "number = int(input(\"Enter an integer: \"))\n",
    "convert_number(number)"
   ]
  },
  {
   "cell_type": "code",
   "execution_count": null,
   "metadata": {},
   "outputs": [],
   "source": []
  }
 ],
 "metadata": {
  "kernelspec": {
   "display_name": "Python 3",
   "language": "python",
   "name": "python3"
  },
  "language_info": {
   "codemirror_mode": {
    "name": "ipython",
    "version": 3
   },
   "file_extension": ".py",
   "mimetype": "text/x-python",
   "name": "python",
   "nbconvert_exporter": "python",
   "pygments_lexer": "ipython3",
   "version": "3.12.3"
  }
 },
 "nbformat": 4,
 "nbformat_minor": 2
}
