{
 "cells": [
  {
   "cell_type": "code",
   "execution_count": 4,
   "id": "c999acfb",
   "metadata": {},
   "outputs": [
    {
     "name": "stdout",
     "output_type": "stream",
     "text": [
      "134906532517712 134906532517712 134906532517712 \n"
     ]
    }
   ],
   "source": [
    "\n",
    "    a=b=c=-257\n",
    "    print(id(a),end=\" \")\n",
    "    print(id(b),end=\" \")\n",
    "    print(id(c),end=\" \")\n",
    "    print()\n",
    "    print()\n"
   ]
  },
  {
   "cell_type": "code",
   "execution_count": 5,
   "id": "3c8caf53",
   "metadata": {},
   "outputs": [
    {
     "name": "stdout",
     "output_type": "stream",
     "text": [
      "5 X 1 = 5\n",
      "5 X 2 = 10\n",
      "5 X 3 = 15\n",
      "5 X 4 = 20\n",
      "5 X 5 = 25\n",
      "5 X 6 = 30\n",
      "5 X 7 = 35\n",
      "5 X 8 = 40\n",
      "5 X 9 = 45\n",
      "5 X 10 = 50\n"
     ]
    }
   ],
   "source": [
    "a=int(input(\"enter num\"))\n",
    "for i in range(1,11):\n",
    "    print(a,\"X\",i,\"=\",a*i)"
   ]
  },
  {
   "cell_type": "code",
   "execution_count": 7,
   "id": "e29fd64d",
   "metadata": {},
   "outputs": [],
   "source": [
    "def printTable(num):\n",
    "    for i in range(1,11):\n",
    "        print(num,\"X\",i,\"=\",num*i)"
   ]
  },
  {
   "cell_type": "code",
   "execution_count": 8,
   "id": "1912e468",
   "metadata": {},
   "outputs": [
    {
     "name": "stdout",
     "output_type": "stream",
     "text": [
      "5 X 1 = 5\n",
      "5 X 2 = 10\n",
      "5 X 3 = 15\n",
      "5 X 4 = 20\n",
      "5 X 5 = 25\n",
      "5 X 6 = 30\n",
      "5 X 7 = 35\n",
      "5 X 8 = 40\n",
      "5 X 9 = 45\n",
      "5 X 10 = 50\n"
     ]
    }
   ],
   "source": [
    "printTable(5)"
   ]
  },
  {
   "cell_type": "code",
   "execution_count": 9,
   "id": "259296d7",
   "metadata": {},
   "outputs": [],
   "source": [
    "# wap that give sum avg min and max of all the input argument"
   ]
  },
  {
   "cell_type": "code",
   "execution_count": 36,
   "id": "5442b0d7",
   "metadata": {},
   "outputs": [
    {
     "name": "stdout",
     "output_type": "stream",
     "text": [
      "numbers :  [6, 3, 5, 8, 7, 9, 1, 2, 6, 98]\n",
      "sum of numbers :  145\n",
      "average :  14.5\n",
      "minimum value :  1\n",
      "maximum value :  98\n"
     ]
    }
   ],
   "source": [
    "\n",
    "a=[]\n",
    "size=int(input(\"enter size of array : \"))\n",
    "for i in range(0,size):\n",
    "    num=int(input(\"enter the numbers:\"))\n",
    "    a.append(num)\n",
    "print(\"numbers : \",a)\n",
    "# length=a.len()\n",
    "\n",
    "def sum1(a):\n",
    "    sum=0\n",
    "    for i in range(0,size):\n",
    "        sum=sum+a[i]\n",
    "    print(\"sum of numbers : \",sum)\n",
    "    return sum\n",
    "   \n",
    "\n",
    "summ=sum1(a) \n",
    "def average(sum):\n",
    "    average=sum/size\n",
    "    print(\"average : \",average)\n",
    "\n",
    "def min_max(a):\n",
    "    print(\"minimum value : \",min(a))\n",
    "    print(\"maximum value : \",max(a))\n",
    "\n",
    "average(summ)\n",
    "min_max(a)"
   ]
  },
  {
   "cell_type": "code",
   "execution_count": null,
   "id": "f8fd1245",
   "metadata": {},
   "outputs": [],
   "source": []
  }
 ],
 "metadata": {
  "kernelspec": {
   "display_name": "Python 3",
   "language": "python",
   "name": "python3"
  },
  "language_info": {
   "codemirror_mode": {
    "name": "ipython",
    "version": 3
   },
   "file_extension": ".py",
   "mimetype": "text/x-python",
   "name": "python",
   "nbconvert_exporter": "python",
   "pygments_lexer": "ipython3",
   "version": "3.12.3"
  }
 },
 "nbformat": 4,
 "nbformat_minor": 5
}
