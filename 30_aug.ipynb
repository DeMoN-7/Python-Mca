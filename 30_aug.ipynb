{
 "cells": [
  {
   "cell_type": "markdown",
   "metadata": {},
   "source": [
    "Functions:"
   ]
  },
  {
   "cell_type": "code",
   "execution_count": 5,
   "metadata": {},
   "outputs": [],
   "source": [
    "def printWelcome(name):\n",
    "    print(\"Welcome\",name,\"hope you enjoy coding:\")"
   ]
  },
  {
   "cell_type": "code",
   "execution_count": 6,
   "metadata": {},
   "outputs": [
    {
     "name": "stdout",
     "output_type": "stream",
     "text": [
      "Welcome Ayush hope you enjoy coding:\n"
     ]
    }
   ],
   "source": [
    "printWelcome(\"Ayush\")"
   ]
  },
  {
   "cell_type": "code",
   "execution_count": 7,
   "metadata": {},
   "outputs": [],
   "source": [
    "def Sum(a,b):\n",
    "    return a+b"
   ]
  },
  {
   "cell_type": "code",
   "execution_count": 8,
   "metadata": {},
   "outputs": [
    {
     "name": "stdout",
     "output_type": "stream",
     "text": [
      "25\n"
     ]
    }
   ],
   "source": [
    "sum=Sum(10,15)\n",
    "print(sum)"
   ]
  },
  {
   "cell_type": "code",
   "execution_count": 9,
   "metadata": {},
   "outputs": [
    {
     "name": "stdout",
     "output_type": "stream",
     "text": [
      "44\n"
     ]
    }
   ],
   "source": [
    "print(Sum(12,32))"
   ]
  },
  {
   "cell_type": "markdown",
   "metadata": {},
   "source": [
    "Doc Function:- gives documentation for function"
   ]
  },
  {
   "cell_type": "code",
   "execution_count": 15,
   "metadata": {},
   "outputs": [],
   "source": [
    "def multiply(a,b):\n",
    "    ''' Hi this is documentation for multiply method this method returns the multiplication of two number '''\n",
    "    return a*b"
   ]
  },
  {
   "cell_type": "code",
   "execution_count": 21,
   "metadata": {},
   "outputs": [
    {
     "name": "stdout",
     "output_type": "stream",
     "text": [
      "Using __doc__:\n",
      " Hi this is documentation for multiply method this method returns the multiplication of two number \n",
      "Using help:\n",
      "Help on function multiply in module __main__:\n",
      "\n",
      "multiply(a, b)\n",
      "    Hi this is documentation for multiply method this method returns the multiplication of two number\n",
      "\n"
     ]
    }
   ],
   "source": [
    "print(\"Using __doc__:\")\n",
    "print(multiply.__doc__)\n",
    "print(\"Using help:\")\n",
    "help(multiply)"
   ]
  },
  {
   "cell_type": "code",
   "execution_count": 4,
   "metadata": {},
   "outputs": [
    {
     "name": "stdout",
     "output_type": "stream",
     "text": [
      "Hello I'm Ayush from MCA\n"
     ]
    }
   ],
   "source": [
    "def test(name,course=\"MCA\"):\n",
    "    print(\"Hello I'm\",name,\"from\",course)\n",
    "test(\"Ayush\")"
   ]
  },
  {
   "cell_type": "markdown",
   "metadata": {},
   "source": [
    "Using args when we dont know how much parameter is required"
   ]
  },
  {
   "cell_type": "code",
   "execution_count": 5,
   "metadata": {},
   "outputs": [],
   "source": [
    "def printNum(*args):\n",
    "    print(args)"
   ]
  },
  {
   "cell_type": "code",
   "execution_count": 6,
   "metadata": {},
   "outputs": [
    {
     "name": "stdout",
     "output_type": "stream",
     "text": [
      "(1, 2, 34, 55, 77, 32)\n",
      "(-1, 44, 66, -3)\n"
     ]
    }
   ],
   "source": [
    "printNum(1,2,34,55,77,32)\n",
    "printNum(-1,44,66,-3)"
   ]
  },
  {
   "cell_type": "markdown",
   "metadata": {},
   "source": [
    "<h1>Scopes</h1>\n",
    "<li>Local Scope: Variables declared inside a function are local to that function.</li>\n",
    "<li>\n",
    "Enclosing Scope: Refers to variables in the scope of the outer function when using nested functions.\n",
    "</li><li>\n",
    "Global Scope: Variables declared at the top level of a script or module are global and can be accessed anywhere in the code.\n",
    "</li><li>\n",
    "Built-in Scope: Refers to the names of built-in functions and exceptions</li>"
   ]
  },
  {
   "cell_type": "code",
   "execution_count": 3,
   "metadata": {},
   "outputs": [
    {
     "name": "stdout",
     "output_type": "stream",
     "text": [
      "local:  30\n",
      "enclosing  20\n",
      "10\n"
     ]
    }
   ],
   "source": [
    "x=10 #global\n",
    "def scopes_check():\n",
    "    x=20 #enclosing scope\n",
    "    def inner_func():\n",
    "        x=30 #local\n",
    "        print(\"local: \",x)\n",
    "    inner_func()\n",
    "    print(\"enclosing \",x)\n",
    "scopes_check()\n",
    "print(x)\n"
   ]
  },
  {
   "cell_type": "markdown",
   "metadata": {},
   "source": [
    "# First class citizen\n",
    "First-class citizens are entities that enable support for all the operations facilitating other fellow entities.\n",
    "\n"
   ]
  },
  {
   "cell_type": "code",
   "execution_count": 4,
   "metadata": {},
   "outputs": [
    {
     "name": "stdout",
     "output_type": "stream",
     "text": [
      "Hello\n"
     ]
    }
   ],
   "source": [
    "def capit(a):\n",
    "    return a.capitalize()\n",
    "print(capit(\"hello\"))"
   ]
  },
  {
   "cell_type": "markdown",
   "metadata": {},
   "source": [
    "# Passing function to a function"
   ]
  },
  {
   "cell_type": "code",
   "execution_count": 6,
   "metadata": {},
   "outputs": [
    {
     "name": "stdout",
     "output_type": "stream",
     "text": [
      "16\n"
     ]
    }
   ],
   "source": [
    "def dobul(a):\n",
    "    return a*2\n",
    "def thri(a):\n",
    "    return a*a*a\n",
    "print(dobul(thri(2)))"
   ]
  },
  {
   "cell_type": "code",
   "execution_count": 8,
   "metadata": {},
   "outputs": [
    {
     "name": "stdout",
     "output_type": "stream",
     "text": [
      "AYUSH SINGH\n"
     ]
    }
   ],
   "source": [
    "def name(name):\n",
    "    return name.upper()\n",
    "def merganame(name1,name2):\n",
    "    return name1+name2\n",
    "print(merganame(name(\"ayush\"),name(\" singh\")))"
   ]
  },
  {
   "cell_type": "code",
   "execution_count": null,
   "metadata": {},
   "outputs": [],
   "source": []
  }
 ],
 "metadata": {
  "kernelspec": {
   "display_name": "Python 3",
   "language": "python",
   "name": "python3"
  },
  "language_info": {
   "codemirror_mode": {
    "name": "ipython",
    "version": 3
   },
   "file_extension": ".py",
   "mimetype": "text/x-python",
   "name": "python",
   "nbconvert_exporter": "python",
   "pygments_lexer": "ipython3",
   "version": "3.12.3"
  }
 },
 "nbformat": 4,
 "nbformat_minor": 2
}
